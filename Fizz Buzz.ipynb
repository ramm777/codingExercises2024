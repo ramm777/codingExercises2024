{
 "cells": [
  {
   "cell_type": "markdown",
   "metadata": {},
   "source": [
    "Input: n = 15\n",
    "\n",
    "Output: [\"1\",\"2\",\"Fizz\",\"4\",\"Buzz\",\"Fizz\",\"7\",\"8\",\"Fizz\",\"Buzz\",\"11\",\"Fizz\",\"13\",\"14\",\"FizzBuzz\"]"
   ]
  },
  {
   "cell_type": "code",
   "execution_count": 10,
   "metadata": {},
   "outputs": [
    {
     "data": {
      "text/plain": [
       "\"1','2','Fizz','4','Buzz','Fizz','7','8','Fizz','Buzz','11','Fizz','13','14','FizzBuzz\""
      ]
     },
     "execution_count": 10,
     "metadata": {},
     "output_type": "execute_result"
    }
   ],
   "source": [
    "# This one is very slow because of four % operators. See another below.\n",
    "\n",
    "def fizz_buzz(n: int) -> list:\n",
    "    answer = []\n",
    "    for i in range(1, n + 1):\n",
    "        if i % 3 == 0 and i % 5 == 0:\n",
    "            answer.append(\"FizzBuzz\")\n",
    "        elif i % 3 == 0:\n",
    "            answer.append(\"Fizz\")\n",
    "        elif i % 5 == 0:\n",
    "            answer.append(\"Buzz\")\n",
    "        else:\n",
    "            answer.append(str(i))\n",
    "    return answer \n",
    "\n",
    "\"','\".join(fizz_buzz(15))    "
   ]
  },
  {
   "cell_type": "code",
   "execution_count": 14,
   "metadata": {},
   "outputs": [
    {
     "data": {
      "text/plain": [
       "\"1','2','Fizz','4','Buzz','Fizz','7','8','Fizz','Buzz','11','Fizz','13','14','FizzBuzz\""
      ]
     },
     "execution_count": 14,
     "metadata": {},
     "output_type": "execute_result"
    }
   ],
   "source": [
    "def fizzBuzz(n: int) -> list:\n",
    "\n",
    "    answer = [str(x) for x in range(1, n+1)]\n",
    "    \n",
    "    for i in range(3-1, n, 3): # 3-1 as your indices are shifted, and values in a list start from 1, not 0\n",
    "        answer[i] = 'Fizz'\n",
    "    \n",
    "    for i in range(5-1, n, 5):\n",
    "        answer[i] = 'Buzz'\n",
    "    \n",
    "    for i in range(15-1, n, 15):\n",
    "        answer[i] = 'FizzBuzz'\n",
    "    \n",
    "    return answer\n",
    "\n",
    "\"','\".join(fizz_buzz(15))  "
   ]
  },
  {
   "cell_type": "code",
   "execution_count": null,
   "metadata": {},
   "outputs": [],
   "source": []
  }
 ],
 "metadata": {
  "kernelspec": {
   "display_name": "Python 3",
   "language": "python",
   "name": "python3"
  },
  "language_info": {
   "codemirror_mode": {
    "name": "ipython",
    "version": 3
   },
   "file_extension": ".py",
   "mimetype": "text/x-python",
   "name": "python",
   "nbconvert_exporter": "python",
   "pygments_lexer": "ipython3",
   "version": "3.9.13"
  }
 },
 "nbformat": 4,
 "nbformat_minor": 2
}
