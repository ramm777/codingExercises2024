{
 "cells": [
  {
   "cell_type": "markdown",
   "metadata": {},
   "source": [
    "Query the Western Longitude (LONG_W)where the smallest Northern Latitude (LAT_N) in STATION is greater than 38.7780. Round your answer to 4  decimal places."
   ]
  },
  {
   "cell_type": "code",
   "execution_count": null,
   "metadata": {
    "vscode": {
     "languageId": "plaintext"
    }
   },
   "outputs": [],
   "source": [
    "SELECT CAST( ROUND(LONG_W, 4) AS DECIMAL(9,4) )\n",
    "FROM STATION\n",
    "WHERE LAT_N = (\n",
    "    SELECT MIN(LAT_N)\n",
    "    FROM STATION\n",
    "    WHERE LAT_N > 38.7780\n",
    ");"
   ]
  }
 ],
 "metadata": {
  "language_info": {
   "name": "python"
  }
 },
 "nbformat": 4,
 "nbformat_minor": 2
}
