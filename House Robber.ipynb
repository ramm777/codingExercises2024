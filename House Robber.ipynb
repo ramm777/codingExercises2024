{
 "cells": [
  {
   "cell_type": "markdown",
   "metadata": {},
   "source": [
    "You are a professional robber planning to rob houses along a street. Each house has a certain amount of money stashed, the only constraint stopping you from robbing each of them is that adjacent houses have security systems connected and it will automatically contact the police if two adjacent houses were broken into on the same night.\n",
    "\n",
    "Given an integer array nums representing the amount of money of each house, return the maximum amount of money you can rob tonight without alerting the police."
   ]
  },
  {
   "cell_type": "code",
   "execution_count": null,
   "metadata": {},
   "outputs": [],
   "source": [
    "# This one is easier to understand in Python Tutor\n",
    "\n",
    "nums = [2,7,9,8,1] + [0] + [2,7,9,3,1]\n",
    "\n",
    "maximums = [0] * len(nums)\n",
    "maximums[0] = nums[0]\n",
    "maximums[1] = max(nums[0], nums[1])\n",
    "\n",
    "for i in range(2, len(nums)):\n",
    "  \n",
    "  # We compare btwn \"latest max\" vs. \"current num + prior to latest maximums[i-2], so as no neighbours, and set it to current maximums[i]\n",
    "  maximums[i] = max(maximums[i-1], nums[i] + maximums[i-2])\n",
    " \n",
    "\n",
    "print(maximums[-1])"
   ]
  },
  {
   "cell_type": "code",
   "execution_count": null,
   "metadata": {},
   "outputs": [],
   "source": [
    "# Just need to add base cases to the above\n",
    "if not nums: return 0\n",
    "if len(nums) == 1: return nums[0]"
   ]
  },
  {
   "cell_type": "code",
   "execution_count": null,
   "metadata": {},
   "outputs": [],
   "source": [
    "nums = [2,7,9,8,1] + [0] + [2,7,9,3,1]\n",
    "\n",
    "prev = curr = 0\n",
    "for num in nums:\n",
    "    prior_to_prev = prev                  # This represents the nums[i-2]th value\n",
    "    prev = curr                           # This represents the nums[i-1]th value\n",
    "    curr = max(prev, num + prior_to_prev) # Here we just plug into the formula\n",
    "\n",
    "print(curr)"
   ]
  }
 ],
 "metadata": {
  "language_info": {
   "name": "python"
  }
 },
 "nbformat": 4,
 "nbformat_minor": 2
}
