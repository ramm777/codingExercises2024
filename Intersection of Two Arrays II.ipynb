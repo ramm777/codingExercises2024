{
 "cells": [
  {
   "cell_type": "code",
   "execution_count": 10,
   "metadata": {},
   "outputs": [],
   "source": [
    "nums1 = [1,2,2,1]*10000000\n",
    "nums2 = [2,2]*5"
   ]
  },
  {
   "cell_type": "code",
   "execution_count": 8,
   "metadata": {},
   "outputs": [
    {
     "data": {
      "text/plain": [
       "[2, 2, 2, 2, 2, 2, 2, 2, 2, 2]"
      ]
     },
     "execution_count": 8,
     "metadata": {},
     "output_type": "execute_result"
    }
   ],
   "source": [
    "# Runtime is slow, but memory usage is great here\n",
    "\n",
    "class Solution:\n",
    "    def intersection(self, nums1, nums2): \n",
    "\n",
    "        intersect = []\n",
    "        for one in nums1: \n",
    "            if one in nums2: \n",
    "                nums2.remove(one) # this operation is expensive runtime \n",
    "                intersect.append(one)\n",
    "        return intersect    \n",
    "\n",
    "\n",
    "Solution().intersection(nums1, nums2)"
   ]
  },
  {
   "cell_type": "code",
   "execution_count": 11,
   "metadata": {},
   "outputs": [
    {
     "data": {
      "text/plain": [
       "[2, 2, 2, 2, 2, 2, 2, 2, 2, 2]"
      ]
     },
     "execution_count": 11,
     "metadata": {},
     "output_type": "execute_result"
    }
   ],
   "source": [
    "# From discussion based on hashmap - Counter\n",
    "\n",
    "nums1 = [1,2,2,1]*10000000\n",
    "nums2 = [2,2]*5\n",
    "\n",
    "from collections import Counter\n",
    "\n",
    "class Solution:\n",
    "\n",
    "    def intersect(self, nums1, nums2):\n",
    "\n",
    "        # This is for space optimization, not for runtime. Actually runtime becomes worse    \n",
    "        if len(nums1) > len(nums2): \n",
    "            return self.intersect(nums2, nums1)\n",
    "            \n",
    "        cnt = Counter(nums1) # taken on the smallest list\n",
    "        ans = []\n",
    "        for x in nums2:\n",
    "            if cnt[x] > 0:\n",
    "                ans.append(x)\n",
    "                cnt[x] -= 1\n",
    "        return ans\n",
    "    \n",
    "\n",
    "Solution().intersect(nums1, nums2)    "
   ]
  },
  {
   "cell_type": "code",
   "execution_count": null,
   "metadata": {},
   "outputs": [],
   "source": [
    "# Based on sorting and moving indices i, j forward based on the comparison of sorted lists' items\n",
    "# The logic is, which index is smaller, that one moves up until it finds equality in items. When equality is found, both i,j moves\n",
    "# This solution is from the Discussion\n",
    "\n",
    "nums1 = [1,2,2,1]\n",
    "nums2 = [2,2]\n",
    "\n",
    "class Solution:\n",
    "    def intersect(self, nums1, nums2): \n",
    "        nums1.sort()\n",
    "        nums2.sort()\n",
    "        \n",
    "        ans = []\n",
    "        i = j = 0\n",
    "        while i < len(nums1) and j < len(nums2):\n",
    "            if nums1[i] < nums2[j]:\n",
    "                i += 1\n",
    "            elif nums1[i] > nums2[j]:\n",
    "                j += 1\n",
    "            else:\n",
    "                ans.append(nums1[i])\n",
    "                i += 1\n",
    "                j += 1\n",
    "        return ans"
   ]
  }
 ],
 "metadata": {
  "kernelspec": {
   "display_name": "Python 3",
   "language": "python",
   "name": "python3"
  },
  "language_info": {
   "codemirror_mode": {
    "name": "ipython",
    "version": 3
   },
   "file_extension": ".py",
   "mimetype": "text/x-python",
   "name": "python",
   "nbconvert_exporter": "python",
   "pygments_lexer": "ipython3",
   "version": "3.9.13"
  }
 },
 "nbformat": 4,
 "nbformat_minor": 2
}
