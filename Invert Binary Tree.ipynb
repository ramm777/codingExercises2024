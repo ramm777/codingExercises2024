{
 "cells": [
  {
   "cell_type": "code",
   "execution_count": 3,
   "metadata": {},
   "outputs": [],
   "source": [
    "from typing import Optional\n",
    "\n",
    "class TreeNode:\n",
    "    def __init__(self, val=0, left=None, right=None):\n",
    "        self.val = val\n",
    "        self.left = left\n",
    "        self.right = right"
   ]
  },
  {
   "cell_type": "code",
   "execution_count": null,
   "metadata": {},
   "outputs": [],
   "source": [
    "# Example Tree\n",
    "#       3\n",
    "#      / \\\n",
    "#     9  20\n",
    "#        / \\\n",
    "#       15  7\n",
    "\n",
    "root = TreeNode(3)\n",
    "root.left = TreeNode(9)\n",
    "root.right = TreeNode(20, TreeNode(15), TreeNode(7))"
   ]
  },
  {
   "cell_type": "markdown",
   "metadata": {},
   "source": [
    "Don't try to trace recursion by following it. You will get easily lost and it can appear more complicated than it actually is.\n",
    "\n",
    "All this is actually doing is swapping the left and right child nodes for the current node, then calling the same on them (which are already swapped at this point), all the way down until there are no child nodes to swap.\n",
    "\n",
    "For every node, you wanna swap the left child and the right child."
   ]
  },
  {
   "cell_type": "code",
   "execution_count": 4,
   "metadata": {},
   "outputs": [],
   "source": [
    "class Solution:\n",
    "    def invertTree(self, root: Optional[TreeNode]) -> Optional[TreeNode]:\n",
    "        \"\"\"\n",
    "        This recursive function, first goes all the way down to the final layer (root is None), and then works upside the tree by swapping each nodes\n",
    "        recursevely in a tree \n",
    "        \"\"\"\n",
    "        # If the tree or a subtree is empty (reached the leaf - final layer)\n",
    "        if root is None: \n",
    "            return root\n",
    "                \n",
    "        # Recursively invert the subtrees\n",
    "        left_inverted = self.invertTree(root.left)\n",
    "        right_inverted = self.invertTree(root.right)\n",
    "        \n",
    "        # Swap the left and right children\n",
    "        root.left, root.right = right_inverted, left_inverted\n",
    "\n",
    "        return root  "
   ]
  },
  {
   "cell_type": "code",
   "execution_count": null,
   "metadata": {},
   "outputs": [],
   "source": []
  },
  {
   "cell_type": "code",
   "execution_count": null,
   "metadata": {},
   "outputs": [],
   "source": []
  }
 ],
 "metadata": {
  "kernelspec": {
   "display_name": "Python 3",
   "language": "python",
   "name": "python3"
  },
  "language_info": {
   "codemirror_mode": {
    "name": "ipython",
    "version": 3
   },
   "file_extension": ".py",
   "mimetype": "text/x-python",
   "name": "python",
   "nbconvert_exporter": "python",
   "pygments_lexer": "ipython3",
   "version": "3.9.13"
  }
 },
 "nbformat": 4,
 "nbformat_minor": 2
}
