{
 "cells": [
  {
   "cell_type": "markdown",
   "metadata": {},
   "source": [
    "Given the root of a binary tree, return its maximum depth.\n",
    "\n",
    "A binary tree's maximum depth is the number of nodes along the longest path from the root node down to the farthest leaf node."
   ]
  },
  {
   "cell_type": "markdown",
   "metadata": {},
   "source": [
    "Binary Tree: A general structure where each node has at most two children. There are no restrictions on the values of the nodes.\n",
    "\n",
    "Binary Search Tree (BST): A special kind of binary tree where, for each node, all nodes in the left subtree have values less than the node’s value, and all nodes in the right subtree have values greater than the node’s value."
   ]
  },
  {
   "cell_type": "code",
   "execution_count": 32,
   "metadata": {},
   "outputs": [],
   "source": [
    "class TreeNode:\n",
    "    def __init__(self, val=0, left=None, right=None):\n",
    "        self.val = val\n",
    "        self.left = left   # should start with left\n",
    "        self.right = right # after left, there is a right\n",
    "    \n",
    "# Example tree (not BST):\n",
    "# root = [3,9,20,null,null,15,7]\n",
    "#       3\n",
    "#      / \\\n",
    "#     9  20\n",
    "#        / \\\n",
    "#       15  7\n",
    "\n",
    "root = TreeNode(3)      # Initialize the tree with 3, \"root\" is an isntance of a class\n",
    "root.left = TreeNode(9)\n",
    "root.right = TreeNode(20)\n",
    "\n",
    "# root.left.left = null\n",
    "# root.left.right = null\n",
    "root.right.left = TreeNode(15)\n",
    "root.right.right = TreeNode(7)        "
   ]
  },
  {
   "cell_type": "code",
   "execution_count": 21,
   "metadata": {},
   "outputs": [
    {
     "name": "stdout",
     "output_type": "stream",
     "text": [
      "3\n"
     ]
    }
   ],
   "source": [
    "queue = [root] # faster using deque([root]) from collections\n",
    "depth = 0\n",
    "\n",
    "# While queue is not an empty list \n",
    "while queue:\n",
    "\n",
    "    depth += 1\n",
    "    level_size = len(queue) # To iterate at each level separately without wrongly recording depth for every child\n",
    "    \n",
    "    for _ in range(level_size):\n",
    "        \n",
    "        # Select a single node from the left, 'node' will be equal to the first item of a list\n",
    "        # But 'queue' becomes without the first item, i.e. (transfer to 'node')   \n",
    "        node = queue.pop(0)         \n",
    "        \n",
    "        # Check if the node has children. If yes, append every child to the queue \n",
    "        if node.left:\n",
    "            queue.append(node.left)  \n",
    "        if node.right:\n",
    "            queue.append(node.right) \n",
    "\n",
    "print(depth)            "
   ]
  },
  {
   "cell_type": "code",
   "execution_count": 30,
   "metadata": {},
   "outputs": [
    {
     "name": "stdout",
     "output_type": "stream",
     "text": [
      "Empty\n"
     ]
    }
   ],
   "source": [
    "# In a function, don't forget to place the empty [] root condition\n",
    "if not root:\n",
    "    return 0"
   ]
  },
  {
   "cell_type": "code",
   "execution_count": null,
   "metadata": {},
   "outputs": [],
   "source": []
  }
 ],
 "metadata": {
  "kernelspec": {
   "display_name": "Python 3",
   "language": "python",
   "name": "python3"
  },
  "language_info": {
   "codemirror_mode": {
    "name": "ipython",
    "version": 3
   },
   "file_extension": ".py",
   "mimetype": "text/x-python",
   "name": "python",
   "nbconvert_exporter": "python",
   "pygments_lexer": "ipython3",
   "version": "3.9.13"
  }
 },
 "nbformat": 4,
 "nbformat_minor": 2
}
