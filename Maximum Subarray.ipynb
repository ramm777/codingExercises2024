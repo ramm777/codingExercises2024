{
 "cells": [
  {
   "cell_type": "markdown",
   "metadata": {},
   "source": [
    "Given an integer array nums, find the subarray with the largest sum, and return its sum.\n",
    "\n",
    "This is Kadane algorithm"
   ]
  },
  {
   "cell_type": "code",
   "execution_count": 6,
   "metadata": {},
   "outputs": [
    {
     "name": "stdout",
     "output_type": "stream",
     "text": [
      "max_global 6\n"
     ]
    }
   ],
   "source": [
    "# This one is fast, but doesn't return the subarray itself\n",
    "\n",
    "nums = [-2,1,-3,4,-1,2,1,-5,4]\n",
    "\n",
    "max_current = max_global = nums[0]\n",
    "\n",
    "for num in nums[1:]:\n",
    "    max_current = max(max_current + num, num)\n",
    "    if max_current > max_global:\n",
    "        max_global = max_current\n",
    "            \n",
    "print('max_global', max_global)"
   ]
  },
  {
   "cell_type": "code",
   "execution_count": null,
   "metadata": {},
   "outputs": [],
   "source": [
    "# This one is more clear, but still difficult to develop intuition into. Better to lear by heart? \n",
    "# But I think I understood. Come back again here.Use python tutor. \n",
    "\n",
    "nums = [-2,1,-3,4,-1,2,1,-10,1,1,2,1,2,2]\n",
    "\n",
    "max_current = nums[0]\n",
    "max_global = nums[0]\n",
    "max_currents = [nums[0]]\n",
    "\n",
    "start = end = s = 0\n",
    "\n",
    "for i in range(1, len(nums)):\n",
    "    \n",
    "    # Does adding next item to the current subarray makes sum bigger than the next item itself? \n",
    "    # If yes, update max_current by it. If no, start subarray from this next item, and update the max_current\n",
    "\n",
    "    if nums[i] + max_current > nums[i]:\n",
    "        max_current += nums[i]\n",
    "    else: \n",
    "        max_current = nums[i] \n",
    "        s = i\n",
    "        \n",
    "    max_currents.append(max_current) # for the visuals   \n",
    "\n",
    "    # It is important to have both current and global to update global    \n",
    "    if max_current > max_global:\n",
    "        max_global = max_current\n",
    "        start = s\n",
    "        end = i + 1\n",
    "\n",
    "print(max_global)\n",
    "\n",
    "print(nums[start:end])"
   ]
  },
  {
   "cell_type": "code",
   "execution_count": null,
   "metadata": {},
   "outputs": [],
   "source": []
  }
 ],
 "metadata": {
  "kernelspec": {
   "display_name": "Python 3",
   "language": "python",
   "name": "python3"
  },
  "language_info": {
   "codemirror_mode": {
    "name": "ipython",
    "version": 3
   },
   "file_extension": ".py",
   "mimetype": "text/x-python",
   "name": "python",
   "nbconvert_exporter": "python",
   "pygments_lexer": "ipython3",
   "version": "3.9.13"
  }
 },
 "nbformat": 4,
 "nbformat_minor": 2
}
