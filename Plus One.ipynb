{
 "cells": [
  {
   "cell_type": "code",
   "execution_count": 122,
   "metadata": {},
   "outputs": [
    {
     "data": {
      "text/plain": [
       "[1, 1, 2, 0, 0, 0, 0]"
      ]
     },
     "execution_count": 122,
     "metadata": {},
     "output_type": "execute_result"
    }
   ],
   "source": [
    "# This solution works, but bad runtime\n",
    "\n",
    "#digits = [4,3,3,9] \n",
    "#digits = [9,9,9]\n",
    "digits = [1,1,1,9,9,9,9]\n",
    "\n",
    "d = int(\"\".join([str(x) for x in digits])) + 1\n",
    "d = [int(x) for x in str(d)]\n",
    "d"
   ]
  },
  {
   "cell_type": "code",
   "execution_count": 129,
   "metadata": {},
   "outputs": [
    {
     "data": {
      "text/plain": [
       "[1, 0, 0, 0]"
      ]
     },
     "execution_count": 129,
     "metadata": {},
     "output_type": "execute_result"
    }
   ],
   "source": [
    "# Recursion based, you can visualize in https://pythontutor.com/\n",
    "\n",
    "digits = [9,9,9]\n",
    "\n",
    "def plusOne(digits):\n",
    "    \n",
    "    if digits[-1] < 9:\n",
    "        digits[-1] += 1\n",
    "        return digits\n",
    "    elif len(digits) == 1 and digits[0] == 9:\n",
    "        return [1, 0]\n",
    "    else:\n",
    "        digits[-1] = 0\n",
    "        digits[0:-1] = plusOne(digits[0:-1])\n",
    "        return digits\n",
    "    \n",
    "plusOne(digits)    "
   ]
  },
  {
   "cell_type": "code",
   "execution_count": 94,
   "metadata": {},
   "outputs": [
    {
     "name": "stdout",
     "output_type": "stream",
     "text": [
      "-1\n",
      "True True\n",
      "-2\n",
      "True True\n",
      "-3\n",
      "True True\n",
      "-4\n",
      "True True\n",
      "-5\n",
      "False True\n"
     ]
    },
    {
     "data": {
      "text/plain": [
       "-5"
      ]
     },
     "execution_count": 94,
     "metadata": {},
     "output_type": "execute_result"
    }
   ],
   "source": [
    "# I don't understand why this while loop is not working??? \n",
    "# I understand, you first changed it, then checked for logic\n",
    "# You should have taken the 1-\n",
    "\n",
    "if False: \n",
    "\n",
    "    digits = [1,1,1,9,9,9,9]\n",
    "\n",
    "    i = -1\n",
    "    print(i)\n",
    "    print(digits[i] == 9, i >= -len(digits))\n",
    "    while digits[i] == 9 and i >= -len(digits): \n",
    "            \n",
    "        i -= 1\n",
    "        print(i)\n",
    "        print(digits[i] == 9, i >= -len(digits)) \n",
    "    i     "
   ]
  },
  {
   "cell_type": "code",
   "execution_count": null,
   "metadata": {},
   "outputs": [],
   "source": []
  }
 ],
 "metadata": {
  "kernelspec": {
   "display_name": "Python 3",
   "language": "python",
   "name": "python3"
  },
  "language_info": {
   "codemirror_mode": {
    "name": "ipython",
    "version": 3
   },
   "file_extension": ".py",
   "mimetype": "text/x-python",
   "name": "python",
   "nbconvert_exporter": "python",
   "pygments_lexer": "ipython3",
   "version": "3.9.13"
  }
 },
 "nbformat": 4,
 "nbformat_minor": 2
}
