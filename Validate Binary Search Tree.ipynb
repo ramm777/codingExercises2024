{
 "cells": [
  {
   "cell_type": "markdown",
   "metadata": {},
   "source": [
    "Given the root of a binary tree, determine if it is a valid binary search tree (BST).\n",
    "\n",
    "A valid BST is defined as follows:\n",
    "\n",
    "- The left subtree of a node contains only nodes with keys less than the node's key.\n",
    "- The right subtree of a node contains only nodes with keys greater than the node's key.\n",
    "- Both the left and right subtrees must also be binary search trees."
   ]
  },
  {
   "cell_type": "code",
   "execution_count": 17,
   "metadata": {},
   "outputs": [],
   "source": [
    "class TreeNode:\n",
    "    def __init__(self, val=0, left=None, right=None):\n",
    "        self.val = val\n",
    "        self.left = left\n",
    "        self.right = right   "
   ]
  },
  {
   "cell_type": "code",
   "execution_count": 27,
   "metadata": {},
   "outputs": [],
   "source": [
    "# root = [2,1,3] - Must be True\n",
    "#   2\n",
    "#  / \\\n",
    "# 1   3\n",
    "\n",
    "root = TreeNode(2)\n",
    "root.left = TreeNode(1)\n",
    "root.right = TreeNode(3)"
   ]
  },
  {
   "cell_type": "code",
   "execution_count": 25,
   "metadata": {},
   "outputs": [],
   "source": [
    "# root = [5,1,4,None,None,3,6] - Must be False\n",
    "#       5\n",
    "#      / \\ \n",
    "#     1   4\n",
    "#        / \\\n",
    "#       3   6\n",
    "\n",
    "root = TreeNode(5)\n",
    "root.left = TreeNode(1)\n",
    "root.right = TreeNode(4, TreeNode(3), TreeNode(6))  "
   ]
  },
  {
   "cell_type": "code",
   "execution_count": 23,
   "metadata": {},
   "outputs": [],
   "source": [
    "# root = [2,2,2] - Must be False\n",
    "root = TreeNode(2)\n",
    "root.left = TreeNode(2)\n",
    "root.right = TreeNode(2)"
   ]
  },
  {
   "cell_type": "code",
   "execution_count": 29,
   "metadata": {},
   "outputs": [],
   "source": [
    "# [5,4,6,null,null,3,7] - Must be False\n",
    "\n",
    "root = TreeNode(5, TreeNode(4), TreeNode(6))\n",
    "root.right.left = TreeNode(3)\n",
    "root.right.right = TreeNode(7)"
   ]
  },
  {
   "cell_type": "code",
   "execution_count": 30,
   "metadata": {},
   "outputs": [
    {
     "data": {
      "text/plain": [
       "False"
      ]
     },
     "execution_count": 30,
     "metadata": {},
     "output_type": "execute_result"
    }
   ],
   "source": [
    "def validate(root):\n",
    "\n",
    "    if not root:\n",
    "        return False\n",
    "\n",
    "    # The queue is tuple (node, min_val, max_val); min_val, max_val are updated in the code\n",
    "    queue = [(root, float('-inf'), float('inf'))]\n",
    "\n",
    "    while queue:\n",
    "\n",
    "        node, min_val, max_val = queue.pop(0) # a tuple\n",
    "\n",
    "        if not (min_val < node.val < max_val):\n",
    "            return False\n",
    "\n",
    "        if node.left:\n",
    "            if node.left.val >= node.val:\n",
    "                return False\n",
    "            # For the node.left record new range -> min_val=min_val, max_val=node.val)\n",
    "            queue.append((node.left, min_val, node.val))\n",
    "\n",
    "        if node.right:\n",
    "            if node.right.val <= node.val:\n",
    "                return False\n",
    "            # For the node.right record new range -> min_val=node.val, max_val=max.val)\n",
    "            queue.append((node.right, node.val, max_val))\n",
    "\n",
    "    return True             \n",
    "\n",
    "validate(root)"
   ]
  },
  {
   "cell_type": "code",
   "execution_count": null,
   "metadata": {},
   "outputs": [],
   "source": []
  },
  {
   "cell_type": "code",
   "execution_count": null,
   "metadata": {},
   "outputs": [],
   "source": []
  }
 ],
 "metadata": {
  "kernelspec": {
   "display_name": "Python 3",
   "language": "python",
   "name": "python3"
  },
  "language_info": {
   "codemirror_mode": {
    "name": "ipython",
    "version": 3
   },
   "file_extension": ".py",
   "mimetype": "text/x-python",
   "name": "python",
   "nbconvert_exporter": "python",
   "pygments_lexer": "ipython3",
   "version": "3.9.13"
  }
 },
 "nbformat": 4,
 "nbformat_minor": 2
}
